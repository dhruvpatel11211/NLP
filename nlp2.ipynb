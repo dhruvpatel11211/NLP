{
 "cells": [
  {
   "cell_type": "code",
   "execution_count": 2,
   "metadata": {},
   "outputs": [
    {
     "data": {
      "text/plain": [
       "['i',\n",
       " 'me',\n",
       " 'my',\n",
       " 'myself',\n",
       " 'we',\n",
       " 'our',\n",
       " 'ours',\n",
       " 'ourselves',\n",
       " 'you',\n",
       " \"you're\",\n",
       " \"you've\",\n",
       " \"you'll\",\n",
       " \"you'd\",\n",
       " 'your',\n",
       " 'yours',\n",
       " 'yourself',\n",
       " 'yourselves',\n",
       " 'he',\n",
       " 'him',\n",
       " 'his',\n",
       " 'himself',\n",
       " 'she',\n",
       " \"she's\",\n",
       " 'her',\n",
       " 'hers',\n",
       " 'herself',\n",
       " 'it',\n",
       " \"it's\",\n",
       " 'its',\n",
       " 'itself',\n",
       " 'they',\n",
       " 'them',\n",
       " 'their',\n",
       " 'theirs',\n",
       " 'themselves',\n",
       " 'what',\n",
       " 'which',\n",
       " 'who',\n",
       " 'whom',\n",
       " 'this',\n",
       " 'that',\n",
       " \"that'll\",\n",
       " 'these',\n",
       " 'those',\n",
       " 'am',\n",
       " 'is',\n",
       " 'are',\n",
       " 'was',\n",
       " 'were',\n",
       " 'be',\n",
       " 'been',\n",
       " 'being',\n",
       " 'have',\n",
       " 'has',\n",
       " 'had',\n",
       " 'having',\n",
       " 'do',\n",
       " 'does',\n",
       " 'did',\n",
       " 'doing',\n",
       " 'a',\n",
       " 'an',\n",
       " 'the',\n",
       " 'and',\n",
       " 'but',\n",
       " 'if',\n",
       " 'or',\n",
       " 'because',\n",
       " 'as',\n",
       " 'until',\n",
       " 'while',\n",
       " 'of',\n",
       " 'at',\n",
       " 'by',\n",
       " 'for',\n",
       " 'with',\n",
       " 'about',\n",
       " 'against',\n",
       " 'between',\n",
       " 'into',\n",
       " 'through',\n",
       " 'during',\n",
       " 'before',\n",
       " 'after',\n",
       " 'above',\n",
       " 'below',\n",
       " 'to',\n",
       " 'from',\n",
       " 'up',\n",
       " 'down',\n",
       " 'in',\n",
       " 'out',\n",
       " 'on',\n",
       " 'off',\n",
       " 'over',\n",
       " 'under',\n",
       " 'again',\n",
       " 'further',\n",
       " 'then',\n",
       " 'once',\n",
       " 'here',\n",
       " 'there',\n",
       " 'when',\n",
       " 'where',\n",
       " 'why',\n",
       " 'how',\n",
       " 'all',\n",
       " 'any',\n",
       " 'both',\n",
       " 'each',\n",
       " 'few',\n",
       " 'more',\n",
       " 'most',\n",
       " 'other',\n",
       " 'some',\n",
       " 'such',\n",
       " 'no',\n",
       " 'nor',\n",
       " 'not',\n",
       " 'only',\n",
       " 'own',\n",
       " 'same',\n",
       " 'so',\n",
       " 'than',\n",
       " 'too',\n",
       " 'very',\n",
       " 's',\n",
       " 't',\n",
       " 'can',\n",
       " 'will',\n",
       " 'just',\n",
       " 'don',\n",
       " \"don't\",\n",
       " 'should',\n",
       " \"should've\",\n",
       " 'now',\n",
       " 'd',\n",
       " 'll',\n",
       " 'm',\n",
       " 'o',\n",
       " 're',\n",
       " 've',\n",
       " 'y',\n",
       " 'ain',\n",
       " 'aren',\n",
       " \"aren't\",\n",
       " 'couldn',\n",
       " \"couldn't\",\n",
       " 'didn',\n",
       " \"didn't\",\n",
       " 'doesn',\n",
       " \"doesn't\",\n",
       " 'hadn',\n",
       " \"hadn't\",\n",
       " 'hasn',\n",
       " \"hasn't\",\n",
       " 'haven',\n",
       " \"haven't\",\n",
       " 'isn',\n",
       " \"isn't\",\n",
       " 'ma',\n",
       " 'mightn',\n",
       " \"mightn't\",\n",
       " 'mustn',\n",
       " \"mustn't\",\n",
       " 'needn',\n",
       " \"needn't\",\n",
       " 'shan',\n",
       " \"shan't\",\n",
       " 'shouldn',\n",
       " \"shouldn't\",\n",
       " 'wasn',\n",
       " \"wasn't\",\n",
       " 'weren',\n",
       " \"weren't\",\n",
       " 'won',\n",
       " \"won't\",\n",
       " 'wouldn',\n",
       " \"wouldn't\"]"
      ]
     },
     "execution_count": 2,
     "metadata": {},
     "output_type": "execute_result"
    }
   ],
   "source": [
    "from nltk.corpus import stopwords\n",
    "stopwords.words('english')"
   ]
  },
  {
   "cell_type": "code",
   "execution_count": 3,
   "metadata": {},
   "outputs": [
    {
     "data": {
      "text/plain": [
       "133737"
      ]
     },
     "execution_count": 3,
     "metadata": {},
     "output_type": "execute_result"
    }
   ],
   "source": [
    "#2. CMU WordList\n",
    "import nltk\n",
    "entries=nltk.corpus.cmudict.entries()\n",
    "len(entries)"
   ]
  },
  {
   "cell_type": "code",
   "execution_count": 11,
   "metadata": {},
   "outputs": [
    {
     "data": {
      "text/plain": [
       "[('belford', ['B', 'EH1', 'L', 'F', 'ER0', 'D']),\n",
       " ('belfry', ['B', 'EH1', 'L', 'F', 'R', 'IY0']),\n",
       " ('belgacom', ['B', 'EH1', 'L', 'G', 'AH0', 'K', 'AA0', 'M']),\n",
       " ('belgacom', ['B', 'EH1', 'L', 'JH', 'AH0', 'K', 'AA0', 'M']),\n",
       " ('belgard', ['B', 'EH0', 'L', 'G', 'AA1', 'R', 'D']),\n",
       " ('belgarde', ['B', 'EH0', 'L', 'G', 'AA1', 'R', 'D', 'IY0']),\n",
       " ('belge', ['B', 'EH1', 'L', 'JH', 'IY0']),\n",
       " ('belger', ['B', 'EH1', 'L', 'G', 'ER0']),\n",
       " ('belgian', ['B', 'EH1', 'L', 'JH', 'AH0', 'N']),\n",
       " ('belgians', ['B', 'EH1', 'L', 'JH', 'AH0', 'N', 'Z']),\n",
       " ('belgique', ['B', 'EH0', 'L', 'ZH', 'IY1', 'K']),\n",
       " (\"belgique's\", ['B', 'EH0', 'L', 'JH', 'IY1', 'K', 'S']),\n",
       " ('belgium', ['B', 'EH1', 'L', 'JH', 'AH0', 'M']),\n",
       " (\"belgium's\", ['B', 'EH1', 'L', 'JH', 'AH0', 'M', 'Z']),\n",
       " ('belgo', ['B', 'EH1', 'L', 'G', 'OW2']),\n",
       " ('belgrade', ['B', 'EH1', 'L', 'G', 'R', 'EY0', 'D']),\n",
       " ('belgrade', ['B', 'EH1', 'L', 'G', 'R', 'AA2', 'D']),\n",
       " (\"belgrade's\", ['B', 'EH1', 'L', 'G', 'R', 'EY0', 'D', 'Z']),\n",
       " (\"belgrade's\", ['B', 'EH1', 'L', 'G', 'R', 'AA2', 'D', 'Z']),\n",
       " ('belgrave', ['B', 'EH1', 'L', 'G', 'R', 'EY2', 'V']),\n",
       " ('beli', ['B', 'EH1', 'L', 'IY0']),\n",
       " ('belich', ['B', 'EH1', 'L', 'IH0', 'K']),\n",
       " ('belie', ['B', 'IH0', 'L', 'AY1']),\n",
       " ('belied', ['B', 'IH0', 'L', 'AY1', 'D']),\n",
       " ('belief', ['B', 'IH0', 'L', 'IY1', 'F']),\n",
       " ('beliefs', ['B', 'IH0', 'L', 'IY1', 'F', 'S']),\n",
       " ('belier', ['B', 'EH1', 'L', 'Y', 'ER0']),\n",
       " ('belies', ['B', 'IH0', 'L', 'AY1', 'Z']),\n",
       " ('believability',\n",
       "  ['B', 'AH0', 'L', 'IY2', 'V', 'AH0', 'B', 'IH1', 'L', 'IH0', 'T', 'IY0']),\n",
       " ('believable', ['B', 'AH0', 'L', 'IY1', 'V', 'AH0', 'B', 'AH0', 'L']),\n",
       " ('believe', ['B', 'IH0', 'L', 'IY1', 'V']),\n",
       " ('believed', ['B', 'IH0', 'L', 'IY1', 'V', 'D']),\n",
       " ('believer', ['B', 'AH0', 'L', 'IY1', 'V', 'ER0']),\n",
       " ('believers', ['B', 'AH0', 'L', 'IY1', 'V', 'ER0', 'Z']),\n",
       " ('believes', ['B', 'IH0', 'L', 'IY1', 'V', 'Z']),\n",
       " ('believing', ['B', 'IH0', 'L', 'IY1', 'V', 'IH0', 'NG']),\n",
       " ('beligerence', ['B', 'AH0', 'L', 'IH1', 'JH', 'ER0', 'AH0', 'N', 'S']),\n",
       " ('beligerent', ['B', 'AH0', 'L', 'IH1', 'JH', 'ER0', 'AH0', 'N', 'T']),\n",
       " ('belin', ['B', 'EH1', 'L', 'IH0', 'N']),\n",
       " ('belinda', ['B', 'AH0', 'L', 'IH1', 'N', 'D', 'AH0']),\n",
       " ('belinsky', ['B', 'IH0', 'L', 'IH1', 'N', 'S', 'K', 'IY0']),\n",
       " ('belisle', ['B', 'EH1', 'L', 'AY0', 'AH0', 'L']),\n",
       " ('belittle', ['B', 'IH0', 'L', 'IH1', 'T', 'AH0', 'L']),\n",
       " ('belittled', ['B', 'IH0', 'L', 'IH1', 'T', 'AH0', 'L', 'D']),\n",
       " ('belittles', ['B', 'IH0', 'L', 'IH1', 'T', 'AH0', 'L', 'Z']),\n",
       " ('belittling', ['B', 'IH0', 'L', 'IH1', 'T', 'AH0', 'L', 'IH0', 'NG']),\n",
       " ('belittling', ['B', 'IH0', 'L', 'IH1', 'T', 'L', 'IH0', 'NG']),\n",
       " ('belitz', ['B', 'EH1', 'L', 'IH0', 'T', 'S']),\n",
       " ('beliveau', ['B', 'EH1', 'L', 'IH0', 'V', 'OW2']),\n",
       " ('belize', ['B', 'EH0', 'L', 'IY1', 'Z']),\n",
       " ('belk', ['B', 'EH1', 'L', 'K']),\n",
       " ('belka', ['B', 'EH1', 'L', 'K', 'AH0']),\n",
       " ('belkacem', ['B', 'EH1', 'L', 'K', 'AH0', 'S', 'AH0', 'M']),\n",
       " ('belke', ['B', 'EH1', 'L', 'K']),\n",
       " ('belkin', ['B', 'EH1', 'L', 'K', 'IH0', 'N']),\n",
       " ('belknap', ['B', 'EH1', 'L', 'N', 'AE0', 'P']),\n",
       " ('belko', ['B', 'EH1', 'L', 'K', 'OW0']),\n",
       " ('bell', ['B', 'EH1', 'L']),\n",
       " ('bella', ['B', 'EH1', 'L', 'AH0']),\n",
       " ('bellah', ['B', 'EH1', 'L', 'AH0']),\n",
       " ('bellamy', ['B', 'EH1', 'L', 'AH0', 'M', 'IY0']),\n",
       " ('bellanca', ['B', 'EH0', 'L', 'AA1', 'N', 'K', 'AH0']),\n",
       " ('belland', ['B', 'EH1', 'L', 'AH0', 'N', 'D']),\n",
       " ('bellanger', ['B', 'EH1', 'L', 'AE2', 'NG', 'G', 'ER0']),\n",
       " ('bellante', ['B', 'EH0', 'L', 'AA1', 'N', 'T', 'IY0']),\n",
       " ('bellantoni', ['B', 'EH0', 'L', 'AA0', 'N', 'T', 'OW1', 'N', 'IY0']),\n",
       " ('bellar', ['B', 'EH1', 'L', 'ER0']),\n",
       " ('bellard', ['B', 'IH0', 'L', 'AA1', 'R', 'D']),\n",
       " ('bellas', ['B', 'EH1', 'L', 'AH0', 'Z']),\n",
       " ('bellavance', ['B', 'EH0', 'L', 'AA1', 'V', 'AH0', 'N', 'S']),\n",
       " ('bellavia', ['B', 'EH0', 'L', 'AA1', 'V', 'IY0', 'AH0']),\n",
       " ('bellavista', ['B', 'EH2', 'L', 'AH0', 'V', 'IH1', 'S', 'T', 'AH0']),\n",
       " ('bellcore', ['B', 'EH1', 'L', 'K', 'AO2', 'R']),\n",
       " (\"bellcore's\", ['B', 'EH1', 'L', 'K', 'AO2', 'R', 'Z']),\n",
       " ('belle', ['B', 'EH1', 'L']),\n",
       " ('belleau', ['B', 'IH0', 'L', 'OW1']),\n",
       " ('bellefeuille', ['B', 'EH2', 'L', 'AH0', 'F', 'IY0', 'UW1', 'L']),\n",
       " ('bellemare', ['B', 'EH2', 'L', 'AH0', 'M', 'EH1', 'R']),\n",
       " ('beller', ['B', 'EH1', 'L', 'ER0']),\n",
       " ('bellerose', ['B', 'EH1', 'L', 'ER0', 'AH0', 'Z']),\n",
       " ('belles', ['B', 'EH1', 'L', 'Z']),\n",
       " ('belleville', ['B', 'AH0', 'L', 'V', 'IH1', 'L']),\n",
       " ('bellevue', ['B', 'EH1', 'L', 'V', 'Y', 'UW2']),\n",
       " ('bellew', ['B', 'IH0', 'L', 'UW1']),\n",
       " ('bellflower', ['B', 'EH1', 'L', 'F', 'L', 'AW2', 'ER0']),\n",
       " ('bellflowers', ['B', 'EH1', 'L', 'F', 'L', 'AW2', 'ER0', 'Z']),\n",
       " ('bellhop', ['B', 'EH1', 'L', 'HH', 'AA2', 'P']),\n",
       " ('bellhops', ['B', 'EH1', 'L', 'HH', 'AA2', 'P', 'S']),\n",
       " ('belli', ['B', 'EH1', 'L', 'IY0']),\n",
       " ('bellicose', ['B', 'EH1', 'L', 'AH0', 'K', 'OW2', 'S']),\n",
       " ('bellied', ['B', 'EH1', 'L', 'IY0', 'D']),\n",
       " ('bellies', ['B', 'EH1', 'L', 'IY0', 'Z']),\n",
       " ('belligerence', ['B', 'AH0', 'L', 'IH1', 'JH', 'ER0', 'AH0', 'N', 'S']),\n",
       " ('belligerent', ['B', 'AH0', 'L', 'IH1', 'JH', 'ER0', 'AH0', 'N', 'T']),\n",
       " ('belligerents', ['B', 'AH0', 'L', 'IH1', 'JH', 'ER0', 'AH0', 'N', 'T', 'S']),\n",
       " ('bellin', ['B', 'EH1', 'L', 'IH0', 'N']),\n",
       " ('bellina', ['B', 'EH0', 'L', 'IY1', 'N', 'AH0']),\n",
       " ('belling', ['B', 'EH1', 'L', 'IH0', 'NG']),\n",
       " ('bellinger', ['B', 'EH1', 'L', 'IH0', 'NG', 'ER0']),\n",
       " ('bellingham', ['B', 'EH1', 'L', 'IH0', 'NG', 'HH', 'AE2', 'M'])]"
      ]
     },
     "execution_count": 11,
     "metadata": {},
     "output_type": "execute_result"
    }
   ],
   "source": [
    "entries[10000:10100]"
   ]
  },
  {
   "cell_type": "code",
   "execution_count": 4,
   "metadata": {},
   "outputs": [
    {
     "data": {
      "text/plain": [
       "[Synset('car.n.01')]"
      ]
     },
     "execution_count": 4,
     "metadata": {},
     "output_type": "execute_result"
    }
   ],
   "source": [
    "#3. Wordnet\n",
    "from nltk.corpus import wordnet as wn\n",
    "wn.synsets('motorcar')"
   ]
  },
  {
   "cell_type": "code",
   "execution_count": 5,
   "metadata": {},
   "outputs": [
    {
     "data": {
      "text/plain": [
       "['car', 'auto', 'automobile', 'machine', 'motorcar']"
      ]
     },
     "execution_count": 5,
     "metadata": {},
     "output_type": "execute_result"
    }
   ],
   "source": [
    "wn.synset('car.n.01').lemma_names()"
   ]
  },
  {
   "cell_type": "code",
   "execution_count": 12,
   "metadata": {
    "scrolled": true
   },
   "outputs": [
    {
     "data": {
      "text/plain": [
       "'happi'"
      ]
     },
     "execution_count": 12,
     "metadata": {},
     "output_type": "execute_result"
    }
   ],
   "source": [
    "#TASK 2 STEMMING:\n",
    "import nltk\n",
    "from nltk.stem import PorterStemmer\n",
    "stemmerporter=PorterStemmer()\n",
    "stemmerporter.stem('happiness')"
   ]
  },
  {
   "cell_type": "code",
   "execution_count": 13,
   "metadata": {},
   "outputs": [
    {
     "data": {
      "text/plain": [
       "'happy'"
      ]
     },
     "execution_count": 13,
     "metadata": {},
     "output_type": "execute_result"
    }
   ],
   "source": [
    "import nltk\n",
    "from nltk.stem import LancasterStemmer\n",
    "stemmerLan=LancasterStemmer()\n",
    "stemmerLan.stem('happiness')"
   ]
  },
  {
   "cell_type": "code",
   "execution_count": 14,
   "metadata": {},
   "outputs": [
    {
     "data": {
      "text/plain": [
       "'mang'"
      ]
     },
     "execution_count": 14,
     "metadata": {},
     "output_type": "execute_result"
    }
   ],
   "source": [
    "import nltk\n",
    "from nltk.stem import SnowballStemmer\n",
    "SnowballStemmer.languages\n",
    "frenchstemmer=SnowballStemmer('french')\n",
    "frenchstemmer.stem('manges')"
   ]
  },
  {
   "cell_type": "code",
   "execution_count": 15,
   "metadata": {},
   "outputs": [],
   "source": [
    "#TASK 3\n",
    "from nltk.stem import PorterStemmer\n",
    "stemmer=PorterStemmer()\n",
    "example=\"I wanted you to see what real courage is, instead of getting the idea that courage is a man with a gun in his hand. It’s when you know you’re licked before you begin but you begin anyway and you see it through no matter what. You rarely win, but sometimes you do.\""
   ]
  },
  {
   "cell_type": "code",
   "execution_count": 16,
   "metadata": {},
   "outputs": [
    {
     "name": "stdout",
     "output_type": "stream",
     "text": [
      "I want you to see what real courag is, instead of get the idea that courag is a man with a gun in hi hand. it’ when you know you’r lick befor you begin but you begin anyway and you see it through no matter what. you rare win, but sometim you do.\n"
     ]
    }
   ],
   "source": [
    "example =[stemmer.stem(token) for token in example.split(\" \")]\n",
    "print(\" \".join(example))"
   ]
  },
  {
   "cell_type": "code",
   "execution_count": 19,
   "metadata": {},
   "outputs": [
    {
     "name": "stdout",
     "output_type": "stream",
     "text": [
      "cactus\n"
     ]
    }
   ],
   "source": [
    "#TASK 4:LEMMATIZER\n",
    "from nltk.stem import WordNetLemmatizer\n",
    "lemmatizer=WordNetLemmatizer()\n",
    "print(lemmatizer.lemmatize(\"cacti\"))"
   ]
  },
  {
   "cell_type": "code",
   "execution_count": 21,
   "metadata": {},
   "outputs": [
    {
     "name": "stdout",
     "output_type": "stream",
     "text": [
      "good\n"
     ]
    }
   ],
   "source": [
    "print(lemmatizer.lemmatize(\"better\",pos='a'))"
   ]
  },
  {
   "cell_type": "code",
   "execution_count": 23,
   "metadata": {},
   "outputs": [
    {
     "name": "stdout",
     "output_type": "stream",
     "text": [
      "be\n"
     ]
    }
   ],
   "source": [
    "print(lemmatizer.lemmatize(\"am\",pos='v'))"
   ]
  },
  {
   "cell_type": "code",
   "execution_count": 28,
   "metadata": {},
   "outputs": [],
   "source": [
    "#TASK 5: CHINESE SEGMENTATION USING JIEBA\n"
   ]
  },
  {
   "cell_type": "code",
   "execution_count": 29,
   "metadata": {},
   "outputs": [
    {
     "name": "stdout",
     "output_type": "stream",
     "text": [
      "Requirement already satisfied: jieba in c:\\users\\dhruv\\anaconda3\\lib\\site-packages (0.42.1)\n",
      "Note: you may need to restart the kernel to use updated packages.\n"
     ]
    }
   ],
   "source": [
    "pip install jieba"
   ]
  },
  {
   "cell_type": "code",
   "execution_count": 30,
   "metadata": {},
   "outputs": [
    {
     "name": "stderr",
     "output_type": "stream",
     "text": [
      "Building prefix dict from the default dictionary ...\n",
      "Dumping model to file cache C:\\Users\\dhruv\\AppData\\Local\\Temp\\jieba.cache\n",
      "Loading model cost 2.670 seconds.\n",
      "Prefix dict has been built successfully.\n"
     ]
    },
    {
     "name": "stdout",
     "output_type": "stream",
     "text": [
      "把 句子 中所 所有 的 可以 成 词 的 词语 都 扫描 描出 描出来 出来\n"
     ]
    }
   ],
   "source": [
    "import jieba\n",
    "seg=jieba.cut(\"把句子中所有的可以成词的词语都扫描出来\",cut_all=True)\n",
    "print(\" \".join(seg))"
   ]
  },
  {
   "cell_type": "code",
   "execution_count": null,
   "metadata": {},
   "outputs": [],
   "source": []
  }
 ],
 "metadata": {
  "kernelspec": {
   "display_name": "Python 3",
   "language": "python",
   "name": "python3"
  },
  "language_info": {
   "codemirror_mode": {
    "name": "ipython",
    "version": 3
   },
   "file_extension": ".py",
   "mimetype": "text/x-python",
   "name": "python",
   "nbconvert_exporter": "python",
   "pygments_lexer": "ipython3",
   "version": "3.7.3"
  }
 },
 "nbformat": 4,
 "nbformat_minor": 2
}
